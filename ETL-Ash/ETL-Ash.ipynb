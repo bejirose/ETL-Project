{
 "cells": [
  {
   "cell_type": "code",
   "execution_count": 1,
   "metadata": {},
   "outputs": [],
   "source": [
    "#import environments\n",
    "import pandas as pd\n",
    "from splinter import Browser\n",
    "from bs4 import BeautifulSoup\n",
    "import time"
   ]
  },
  {
   "cell_type": "code",
   "execution_count": 2,
   "metadata": {},
   "outputs": [
    {
     "name": "stdout",
     "output_type": "stream",
     "text": [
      "/usr/local/bin/chromedriver\r\n"
     ]
    }
   ],
   "source": [
    "# https://splinter.readthedocs.io/en/latest/drivers/chrome.html\n",
    "!which chromedriver"
   ]
  },
  {
   "cell_type": "code",
   "execution_count": 3,
   "metadata": {},
   "outputs": [],
   "source": [
    "executable_path = {'executable_path': '/usr/local/bin/chromedriver'}\n",
    "browser = Browser('chrome', **executable_path, headless=False)"
   ]
  },
  {
   "cell_type": "code",
   "execution_count": 4,
   "metadata": {},
   "outputs": [],
   "source": [
    "url = 'https://www.indeed.com/salaries'\n",
    "browser.visit(url)\n",
    "time.sleep(1)"
   ]
  },
  {
   "cell_type": "code",
   "execution_count": 5,
   "metadata": {},
   "outputs": [],
   "source": [
    "html = browser.html\n",
    "soup = BeautifulSoup(html, 'html.parser')\n",
    "#print(soup.prettify())"
   ]
  },
  {
   "cell_type": "code",
   "execution_count": 6,
   "metadata": {},
   "outputs": [],
   "source": [
    "job_titles = ['junior data analyst', 'data analyst', 'senior data analyst', \n",
    "              'data engineer', 'data scientist', \n",
    "              'senior data scientist']\n",
    "salaries_by_job_title = []\n",
    "salary_type_by_job_title = []\n",
    "salary_description = []\n",
    "source_urls = []\n"
   ]
  },
  {
   "cell_type": "code",
   "execution_count": 7,
   "metadata": {},
   "outputs": [
    {
     "name": "stdout",
     "output_type": "stream",
     "text": [
      "junior data analyst\n",
      "Junior Data Analyst\n",
      "------------\n",
      "Popular salaries for junior data analyst\n",
      "https://www.indeed.com/career/junior-data-analyst/salaries\n",
      "$57,236 per year\n",
      "The average salary for a junior data analyst  is $57,236 per year in the United States. \n",
      "data analyst\n",
      "Data Entry Clerk\n",
      "Data Analyst\n",
      "Senior Data Analyst\n",
      "Data Analyst Manager\n",
      "Junior Data Analyst\n",
      "Entry Level Data Analyst\n",
      "------------\n",
      "Popular salaries for data analyst\n",
      "https://www.indeed.com/career/data-analyst/salaries\n",
      "$75,121 per year\n",
      "The average salary for a data analyst  is $75,121 per year in the United States and  $2,500 cash bonus per year.\n",
      "senior data analyst\n",
      "Senior Data Analyst\n",
      "------------\n",
      "Popular salaries for senior data analyst\n",
      "https://www.indeed.com/career/senior-data-analyst/salaries\n",
      "$95,984 per year\n",
      "The average salary for a senior data analyst  is $95,984 per year in the United States and  $3,650 cash bonus per year.\n",
      "data engineer\n",
      "Data Engineer\n",
      "Data Warehouse Engineer\n",
      "------------\n",
      "Popular salaries for data engineer\n",
      "https://www.indeed.com/career/data-engineer/salaries\n",
      "$129,421 per year\n",
      "The average salary for a data engineer  is $129,421 per year in the United States and  $5,000 cash bonus per year.\n",
      "data scientist\n",
      "Data Scientist\n",
      "Senior Data Scientist\n",
      "Lead Data Scientist\n",
      "Junior Data Scientist\n",
      "------------\n",
      "Popular salaries for data scientist\n",
      "https://www.indeed.com/career/data-scientist/salaries\n",
      "$121,691 per year\n",
      "The average salary for a data scientist  is $121,691 per year in the United States. \n",
      "senior data scientist\n",
      "Senior Data Scientist\n",
      "------------\n",
      "Popular salaries for senior data scientist\n",
      "https://www.indeed.com/career/senior-data-scientist/salaries\n",
      "$150,981 per year\n",
      "The average salary for a senior data scientist  is $150,981 per year in the United States. \n"
     ]
    }
   ],
   "source": [
    "for job in job_titles:\n",
    "    try:\n",
    "        print(job)\n",
    "        try:\n",
    "            browser.find_by_id('cmp-salary-search-input').first.fill(job)\n",
    "        except:\n",
    "            browser.find_by_id('cmp-salary-search-input-title').first.fill(job)\n",
    "        time.sleep(1)\n",
    "        html = browser.html\n",
    "        soup = BeautifulSoup(html, 'html.parser')\n",
    "#         print(soup.prettify())\n",
    "        search_results = soup.find('div', class_='cmp-salary-search-results')\n",
    "#         print(search_results)\n",
    "#         print('------------')\n",
    "        keywords = search_results.find_all('a', class_='cmp-salary-search-result-title')\n",
    "#         print(keywords)\n",
    "#         print('------------')\n",
    "        for keyword in keywords:\n",
    "            print(keyword.text)\n",
    "        print('------------')\n",
    "        #option = browser.find_by_partial_text('data analyst').mouse_over()\n",
    "        option = browser.links.find_by_partial_text(job)\n",
    "        option.mouse_over()\n",
    "        print(option.text)\n",
    "        browser.click_link_by_id('cmp-salary-search-submit')\n",
    "        time.sleep(1)\n",
    "        print(browser.url)\n",
    "        source_urls.append(browser.url)\n",
    "        browser.visit(browser.url)\n",
    "        time.sleep(1)\n",
    "        html = browser.html\n",
    "        soup = BeautifulSoup(html, 'html.parser')\n",
    "        #print(soup.prettify())\n",
    "        avg_salary = soup.find('div', class_='sal-agg-nonbase__average-salary-value').text\n",
    "        avg_salary_type = soup.find('div', class_='sal-agg-nonbase__average-salary-type').text   \n",
    "        avg_salary_summary = soup.find('h3', class_='sal-agg-nonbase__salary-explain-summary').text       \n",
    "        print(avg_salary, avg_salary_type)\n",
    "        print(avg_salary_summary)\n",
    "        salaries_by_job_title.append(avg_salary)\n",
    "        salary_type_by_job_title.append(avg_salary_type)\n",
    "        salary_description.append(avg_salary_summary)\n",
    "        browser.back()\n",
    "        time.sleep(1)\n",
    "    except AttributeError as e:\n",
    "        print(e)\n",
    "        pass\n",
    "        "
   ]
  },
  {
   "cell_type": "code",
   "execution_count": 8,
   "metadata": {},
   "outputs": [],
   "source": [
    "browser.quit()"
   ]
  },
  {
   "cell_type": "code",
   "execution_count": 9,
   "metadata": {},
   "outputs": [
    {
     "data": {
      "text/html": [
       "<div>\n",
       "<style scoped>\n",
       "    .dataframe tbody tr th:only-of-type {\n",
       "        vertical-align: middle;\n",
       "    }\n",
       "\n",
       "    .dataframe tbody tr th {\n",
       "        vertical-align: top;\n",
       "    }\n",
       "\n",
       "    .dataframe thead th {\n",
       "        text-align: right;\n",
       "    }\n",
       "</style>\n",
       "<table border=\"1\" class=\"dataframe\">\n",
       "  <thead>\n",
       "    <tr style=\"text-align: right;\">\n",
       "      <th></th>\n",
       "      <th>Job Title</th>\n",
       "      <th>Avg Salary</th>\n",
       "      <th>Salary Type</th>\n",
       "      <th>Salary Description</th>\n",
       "    </tr>\n",
       "  </thead>\n",
       "  <tbody>\n",
       "    <tr>\n",
       "      <th>0</th>\n",
       "      <td>junior data analyst</td>\n",
       "      <td>$57,236</td>\n",
       "      <td>per year</td>\n",
       "      <td>The average salary for a junior data analyst  ...</td>\n",
       "    </tr>\n",
       "    <tr>\n",
       "      <th>1</th>\n",
       "      <td>data analyst</td>\n",
       "      <td>$75,121</td>\n",
       "      <td>per year</td>\n",
       "      <td>The average salary for a data analyst  is $75,...</td>\n",
       "    </tr>\n",
       "    <tr>\n",
       "      <th>2</th>\n",
       "      <td>senior data analyst</td>\n",
       "      <td>$95,984</td>\n",
       "      <td>per year</td>\n",
       "      <td>The average salary for a senior data analyst  ...</td>\n",
       "    </tr>\n",
       "    <tr>\n",
       "      <th>3</th>\n",
       "      <td>data engineer</td>\n",
       "      <td>$129,421</td>\n",
       "      <td>per year</td>\n",
       "      <td>The average salary for a data engineer  is $12...</td>\n",
       "    </tr>\n",
       "    <tr>\n",
       "      <th>4</th>\n",
       "      <td>data scientist</td>\n",
       "      <td>$121,691</td>\n",
       "      <td>per year</td>\n",
       "      <td>The average salary for a data scientist  is $1...</td>\n",
       "    </tr>\n",
       "    <tr>\n",
       "      <th>5</th>\n",
       "      <td>senior data scientist</td>\n",
       "      <td>$150,981</td>\n",
       "      <td>per year</td>\n",
       "      <td>The average salary for a senior data scientist...</td>\n",
       "    </tr>\n",
       "  </tbody>\n",
       "</table>\n",
       "</div>"
      ],
      "text/plain": [
       "               Job Title Avg Salary Salary Type  \\\n",
       "0    junior data analyst    $57,236    per year   \n",
       "1           data analyst    $75,121    per year   \n",
       "2    senior data analyst    $95,984    per year   \n",
       "3          data engineer   $129,421    per year   \n",
       "4         data scientist   $121,691    per year   \n",
       "5  senior data scientist   $150,981    per year   \n",
       "\n",
       "                                  Salary Description  \n",
       "0  The average salary for a junior data analyst  ...  \n",
       "1  The average salary for a data analyst  is $75,...  \n",
       "2  The average salary for a senior data analyst  ...  \n",
       "3  The average salary for a data engineer  is $12...  \n",
       "4  The average salary for a data scientist  is $1...  \n",
       "5  The average salary for a senior data scientist...  "
      ]
     },
     "execution_count": 9,
     "metadata": {},
     "output_type": "execute_result"
    }
   ],
   "source": [
    "salary_table = pd.DataFrame({\"Job Title\":job_titles,\n",
    "                             \"Avg Salary\":salaries_by_job_title,\n",
    "                             \"Salary Type\": avg_salary_type,\n",
    "                             \"Salary Description\": salary_description\n",
    "                             })\n",
    "salary_table"
   ]
  },
  {
   "cell_type": "code",
   "execution_count": null,
   "metadata": {},
   "outputs": [],
   "source": []
  },
  {
   "cell_type": "code",
   "execution_count": null,
   "metadata": {},
   "outputs": [],
   "source": []
  }
 ],
 "metadata": {
  "kernelspec": {
   "display_name": "Python 3",
   "language": "python",
   "name": "python3"
  },
  "language_info": {
   "codemirror_mode": {
    "name": "ipython",
    "version": 3
   },
   "file_extension": ".py",
   "mimetype": "text/x-python",
   "name": "python",
   "nbconvert_exporter": "python",
   "pygments_lexer": "ipython3",
   "version": "3.7.6"
  }
 },
 "nbformat": 4,
 "nbformat_minor": 4
}
